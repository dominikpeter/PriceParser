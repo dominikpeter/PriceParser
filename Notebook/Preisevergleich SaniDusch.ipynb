{
 "cells": [
  {
   "cell_type": "code",
   "execution_count": 57,
   "metadata": {},
   "outputs": [],
   "source": [
    "import pandas as pd\n",
    "import numpy as np\n",
    "import re\n",
    "import turbodbc\n",
    "import os"
   ]
  },
  {
   "cell_type": "code",
   "execution_count": 97,
   "metadata": {},
   "outputs": [],
   "source": [
    "def create_connection_string_turbo(server, database):\n",
    "    options = turbodbc.make_options(prefer_unicode=True)\n",
    "    constr = 'Driver={ODBC Driver 13 for SQL Server};Server=' + \\\n",
    "        server + ';Database=' + database + ';Trusted_Connection=yes;'\n",
    "    con = turbodbc.connect(connection_string=constr, turbodbc_options=options)\n",
    "    return con"
   ]
  },
  {
   "cell_type": "code",
   "execution_count": 98,
   "metadata": {},
   "outputs": [],
   "source": [
    "def sql_to_pandas(connection, query, *args, **kwargs):\n",
    "    df = pd.read_sql(query, connection, *args, **kwargs)\n",
    "    return df"
   ]
  },
  {
   "cell_type": "code",
   "execution_count": 62,
   "metadata": {},
   "outputs": [],
   "source": [
    "company = 'TeamSaniDusch'"
   ]
  },
  {
   "cell_type": "code",
   "execution_count": 63,
   "metadata": {},
   "outputs": [],
   "source": [
    "files = []\n",
    "for i in os.listdir(\"../Archiv\"):\n",
    "    for j in os.listdir(os.path.join(\"../Archiv\", i)):\n",
    "        if re.match(company+\".*\", j):\n",
    "            files += [os.path.join(\"../Archiv\", i, j)]"
   ]
  },
  {
   "cell_type": "code",
   "execution_count": 113,
   "metadata": {},
   "outputs": [],
   "source": [
    "df = pd.DataFrame()\n",
    "for i in files:\n",
    "    df_temp = pd.read_csv(i, sep=\";\", dtype=str)\n",
    "    df_temp['Timestamp'] = i.split(\"\\\\\")[1]\n",
    "    df = pd.concat([df, df_temp], axis=0)"
   ]
  },
  {
   "cell_type": "code",
   "execution_count": 114,
   "metadata": {},
   "outputs": [],
   "source": [
    "df.fillna('', inplace=True)\n",
    "df['FarbId'] = df['FarbId'].replace('', '000')"
   ]
  },
  {
   "cell_type": "code",
   "execution_count": 115,
   "metadata": {},
   "outputs": [],
   "source": [
    "df['UID'] = df[['ArtikelId', 'FarbId', 'AusführungsId']].apply(lambda x: ''.join(x), axis=1)"
   ]
  },
  {
   "cell_type": "code",
   "execution_count": 116,
   "metadata": {},
   "outputs": [],
   "source": [
    "df = df[['UID', 'Timestamp', 'Preis_Pos']].copy()"
   ]
  },
  {
   "cell_type": "code",
   "execution_count": 117,
   "metadata": {},
   "outputs": [],
   "source": [
    "df_pivot = df[df['Timestamp'].apply(lambda x: x in ['2017-11-27', '2018-01-15'])].pivot(index=\"UID\", columns=\"Timestamp\", values=\"Preis_Pos\")\n",
    "df_pivot = df_pivot.astype(np.float)\n",
    "df_pivot['Diff'] = df_pivot.iloc[:,1] -  df_pivot.iloc[:,0]\n",
    "df_pivot['Diff%'] = df_pivot['Diff'] / df_pivot.iloc[:,0]"
   ]
  },
  {
   "cell_type": "code",
   "execution_count": 122,
   "metadata": {},
   "outputs": [],
   "source": [
    "query = \"\"\"SELECT Artikelnummer,\n",
    "                [Artikel Beschreibung],\n",
    "                SGVSB,\n",
    "                Bruttoverkauf,\n",
    "                Umsatz = Sales\n",
    "            FROM (\n",
    "            SELECT Artikelnummer = x.[Artikel]\n",
    "                ,[Artikel Beschreibung] = [Artikel Beschreibung]\n",
    "                ,[SGVSB]\n",
    "                ,[Bruttoverkauf]\n",
    "            FROM [BDL].[DES].[Artikelstamm] x\n",
    "            LEFT OUTER JOIN (SELECT Artikelnummer = Artikel, [Brutto Einkaufspreis] = max([Brutto Einkaufspreis]), Bruttoverkauf = max(Bruttoverkauf), Standardkosten = max(Standardkosten), [Netto Einkaufspreis Pro LE] = max([Netto Einkaufspreis Pro LE])\n",
    "                            FROM [BDL].[DES].[Artikel Sparten Konditionen]\n",
    "                            GROUP BY Artikel ) y on y.Artikelnummer = x.Artikel\n",
    "            where SGVSB > '' and Lieferant <> '00008537'\n",
    "            ) x \n",
    "            left join (SELECT iditemOrigin, Sales = Sum(Sales)\n",
    "                        from InfoPool.Fact.Sales where year = 2017 group by iditemorigin ) y on y.idItemOrigin = x.Artikelnummer collate SQL_Latin1_General_CP1_CI_AI\"\"\""
   ]
  },
  {
   "cell_type": "code",
   "execution_count": 123,
   "metadata": {},
   "outputs": [],
   "source": [
    "con = create_connection_string_turbo(\"CRHBUSADWH51\", 'BDL')"
   ]
  },
  {
   "cell_type": "code",
   "execution_count": 124,
   "metadata": {},
   "outputs": [],
   "source": [
    "df_meta = sql_to_pandas(con, query)\n",
    "df_meta = df_meta.set_index('SGVSB')"
   ]
  },
  {
   "cell_type": "code",
   "execution_count": 128,
   "metadata": {},
   "outputs": [],
   "source": [
    "df_pivot = df_pivot.join(df_meta).sort_values('Umsatz', ascending = False)"
   ]
  },
  {
   "cell_type": "code",
   "execution_count": 129,
   "metadata": {},
   "outputs": [],
   "source": [
    "df_pivot.to_clipboard()"
   ]
  },
  {
   "cell_type": "code",
   "execution_count": null,
   "metadata": {},
   "outputs": [],
   "source": []
  }
 ],
 "metadata": {
  "kernelspec": {
   "display_name": "Python 3",
   "language": "python",
   "name": "python3"
  },
  "language_info": {
   "codemirror_mode": {
    "name": "ipython",
    "version": 3
   },
   "file_extension": ".py",
   "mimetype": "text/x-python",
   "name": "python",
   "nbconvert_exporter": "python",
   "pygments_lexer": "ipython3",
   "version": "3.6.4"
  }
 },
 "nbformat": 4,
 "nbformat_minor": 2
}
